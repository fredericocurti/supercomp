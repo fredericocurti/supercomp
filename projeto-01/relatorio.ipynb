{
 "cells": [
  {
   "cell_type": "markdown",
   "metadata": {},
   "source": [
    "## Relatório Projeto 1 - Projeto 1: C++ e SIMD - Supercomp 2019.2\n",
    "### Frederico Vilela Curti\n",
    "___\n",
    "\n",
    "### Descrição do problema tratado\n",
    "\n",
    "- O problema tratado nesse projeto é uma simulação 2D, no qual um plano é populado por retângulos com diferentes posições e velocidades iniciais que podem colidir entre si ou com os limites do plano, provocando uma colisão perfeitamente elástica, além de sofrerem uma desaceleração constante em virtude da força de atrito presente na superfície do plano. \n",
    "\n",
    "### Organização em alto nível do projeto.\n",
    "\n",
    "- O projeto foi escrito em C++ e possui uma única classe auxiliar [`Parser`](parser.hpp), que é responsável por ler da entrada padrão de forma sequêncial para capturar os parâmetros do campo de simulação como suas dimensões e o coeficiente de atrito dinâmico, como também as informações sobre cada retângulo que será populado no campo, tal como suas dimensões, posição e velocidade inicial. Abaixo está o formato de um arquivo de entrada\n",
    " \n",
    "```\n",
    "w h mu_d\n",
    "N\n",
    "m wr hr x y vx vy \n",
    ".... \n",
    "m wr hr x y vx vy \n",
    "dt print_freq max_iter\n",
    "```\n",
    "\n",
    "Onde:\n",
    "\n",
    "* `w`, `h` e `mu_d` se referem ao tamanho do campo de simulação e seu coeficiente de atrito dinâmico.\n",
    "* `N` é o número de retângulos da simulação. Cada linha subsequente contém um retângulo com as seguintes propriedades:\n",
    "    * massa `m`\n",
    "    * largura `wr`\n",
    "    * altura `hr`\n",
    "    * posição inicial `(x, y)`\n",
    "    * velocidade inicial  `(vx, vy)`\n",
    "* `dt` representa o tamanho do passo de simulação. \n",
    "* `print_freq` determina a cada quantas iterações o estado da simulação será exibido na saída padrão (`Parser::print`).\n",
    "* `max_iter` é o numero máximo de iterações que a simulação pode realizar. **No entanto, a simulação pode acabar quando o módulo da velocidade de todos os corpos for menor que $0,0001 m/s$.**\n",
    "\n",
    "\n",
    "Quando lidos, os atributos de cada retângulo são armazenados em um `std::vector<double>`. A ideia de armazenar os valores dessa forma seria para facilitar o trabalho do autovetorizador em busca de ganhos de desempenho maiores.\n",
    "```\n",
    " * Relação retângulo na array\n",
    " * rec[0] = m - massa\n",
    " * rec[1] = wr - largura\n",
    " * rec[2] = hr - altura\n",
    " * rec[3] = posicao x\n",
    " * rec[4] = posicao y\n",
    " * rec[5] = velocidade vx\n",
    " * rec[6] = velocidade vy\n",
    "``` \n",
    "Todos os retângulos, representados por esses vetores, são armazenados em uma propriedade da classe `Parser` chamada `rects`, que por sua vez é um `std::vector<std::vector<double> >`, onde eles poderão ser acessados e modificados durante a simulação.\n",
    "\n",
    "A simulação, contida no método `main` do arquivo [`main.cpp`](main.cpp), instancia um objeto do tipo `Parser`, inicializa as variáveis e as constantes necessárias para a simulação e carrega todo o processo, com uma cópia profunda do estado anterior, representada pela variável `pr` (*previous rects*) que nada mais é do que uma cópia do vetor `rects` da iteração anterior. Isso permite que no evento de uma colisão, as posições dos retângulos envolvidos possam voltar à seu estado prévio para evitar que uma posição inválida seja armazenada e propagada para as iterações seguintes.\n",
    "\n",
    "Todos os cálculos da simulação são feitos na função `main`, o que embora seja ruim para legibilidade do código, pode ser benéfico com o autovetorizador, pois como foi comentado em aula, além do overhead da chamada de função (jumps, stack etc) o autovetorizador não consegue otimizar os cálculos quando estes estão fragmentados em funções. Para tentar contornar esse problema tentei comentar ao máximo o que cada bloco de código é responsável.\n",
    "\n",
    "O tempo que a simulação levou é calculado com a biblioteca `chrono`, usando o `high_resolution_clock`, e ao término da simulação, o tempo que esta levou em nanosegundos é impresso na saída de erros, para não se misturar com o output esperado na saída padrão requisito do projeto."
   ]
  },
  {
   "cell_type": "code",
   "execution_count": 33,
   "metadata": {},
   "outputs": [],
   "source": [
    "# Importando dependências\n",
    "import os\n",
    "import subprocess\n",
    "import statistics\n",
    "import random\n",
    "import pandas as pd\n",
    "import matplotlib.pyplot as plt\n",
    "from pprint import pprint"
   ]
  },
  {
   "cell_type": "markdown",
   "metadata": {},
   "source": [
    "___\n",
    "## Testes\n",
    "Para os testes, é experado que exista um arquivo no formato `saidaN` no diretório `expected`, onde N é um número. Tambem se espera um arquivo `entradaN` com o mesmo valor N no diretório `input`. A função `match` irá comparar todos os valores de saída de forma pareada com os valores esperados, e se todos estiverem dentro da tolerância (nesse caso 0.1), irá validar a simulação.\n",
    "\n",
    "**A ideia nessa seção é validar a corretude do algoritmo de simulação, e não comparar as diferenças do desempenho, então só será usada a versão sem otimização como referência**\n",
    "\n",
    "Garanta que a linha abaixo mostra que seu diretorio atual é `projeto1`"
   ]
  },
  {
   "cell_type": "code",
   "execution_count": 6,
   "metadata": {},
   "outputs": [
    {
     "data": {
      "text/plain": [
       "'/home/fredcurti/supercomp/projeto1'"
      ]
     },
     "execution_count": 6,
     "metadata": {},
     "output_type": "execute_result"
    }
   ],
   "source": [
    "pwd"
   ]
  },
  {
   "cell_type": "code",
   "execution_count": 12,
   "metadata": {
    "scrolled": true
   },
   "outputs": [
    {
     "name": "stdout",
     "output_type": "stream",
     "text": [
      "entrada 1 ok - time 65560.0 ns\n",
      "entrada 2 ok - time 96020.0 ns\n",
      "entrada 3 ok - time 72728.0 ns\n",
      "entrada 4 ok - time 85133.0 ns\n",
      "entrada 5 ok - time 90675.0 ns\n",
      "entrada 6 ok - time 129485.0 ns\n",
      "entrada 7 ok - time 76932.0 ns\n"
     ]
    }
   ],
   "source": [
    "input_files = sorted(os.listdir('input'))\n",
    "expected_files = sorted(os.listdir('expected'))\n",
    "tolerance = 0.1\n",
    "\n",
    "def match(output, expected):\n",
    "    output = [float(x) for x in output.replace('--------', '').split()]\n",
    "    expected = [float(x) for x in expected.replace('--------', '').split()]\n",
    "    for x, y in zip(output, expected):\n",
    "        delta = abs(x-y)\n",
    "        if (delta > tolerance):\n",
    "            print(\"[match]\", x,\"!=\", y, \"delta:\", delta, \">\", tolerance)\n",
    "            return False\n",
    "    return True\n",
    "\n",
    "for i in range(1, len(input_files) + 1):\n",
    "    try:\n",
    "        result = subprocess.run([\"build/main-O0\"], stdin=open(f\"input/entrada{i}\"), stdout=subprocess.PIPE, stderr=subprocess.PIPE)\n",
    "        output = result.stdout.decode('utf-8')\n",
    "        duration = float(result.stderr.decode('utf-8'))\n",
    "        expected = open(f\"expected/saida{i}\").read()\n",
    "        if (match(output, expected)):\n",
    "            print('entrada', i, 'ok - time', duration, 'ns')\n",
    "    except:\n",
    "        print(\"error reading test\", i, '- make sure you have files on both input/expected')"
   ]
  },
  {
   "cell_type": "markdown",
   "metadata": {},
   "source": [
    "___\n",
    "## Benchmark\n",
    "Com a simulação validada, agora é hora de testar simulações maiores e verificar se houveram ganhos de desempenho com as otimizações. Nesse caso, não iremos validar a saída, apenas comparar o tempo de execução entre a versão sem as otimizações, que foi compilada com a flag `-O0`, com as versoes otimizadas, ate `-03`, esta ultima tambem compilada com as flags `-mavx` `-ffast-math` `-ftree-vectorize`. Para tal, foi criada a funcao `generate_input` que gera uma entrada aleatoria para o programa. Nesse documento, serao rodados 100 testes com entradas aleatorias para as 5 versoes de executavel, e os resultados serao armazenados em um `dataframe` que sera utilizado para a geracao dos graficos"
   ]
  },
  {
   "cell_type": "code",
   "execution_count": 13,
   "metadata": {},
   "outputs": [],
   "source": [
    "def generate_input(size=(1000,1000), u=0, N=10, dt=0.5, print_freq=10, max_iter=1000):\n",
    "    s = f\"{size[0]} {size[1]} {u}\" + \"\\n\"\n",
    "    s += str(N) + \"\\n\"\n",
    "    for i in range(N):\n",
    "        p = random.randint(1, 10)\n",
    "        w = random.randint(1, 10)\n",
    "        h = random.randint(0, 10)\n",
    "        x = random.randint(0, size[0])\n",
    "        y = random.randint(0, size[1])\n",
    "        vx = random.randint(-5, 5)\n",
    "        vy = random.randint(-5, 5)\n",
    "        s += f\"{p} {w} {h} {x} {y} {vx} {vy}\" + \"\\n\"\n",
    "    s += f\"{dt} {print_freq} {max_iter}\"\n",
    "    return bytes(s, encoding='utf-8')"
   ]
  },
  {
   "cell_type": "code",
   "execution_count": 14,
   "metadata": {},
   "outputs": [],
   "source": [
    "TESTS = 100\n",
    "EXECUTABLES = ['main-O0', 'main-O1', 'main-O2', 'main-O3', 'main-O3-avx']\n",
    "df = pd.DataFrame()\n",
    "N = 10\n",
    "max_iter = 20000\n",
    "\n",
    "for i in range(TESTS):\n",
    "    test = generate_input(max_iter=max_iter, u=0, N=N)\n",
    "    \n",
    "    for exe in EXECUTABLES:\n",
    "        result = subprocess.run([f\"build/{exe}\"], input=test, stdout=subprocess.PIPE, stderr=subprocess.PIPE)\n",
    "        duration = float(result.stderr.decode('utf-8'))\n",
    "        df = df.append({\n",
    "            'version': exe.replace('main-', ''),\n",
    "            'duration': duration/1e6,\n",
    "            'N': N,\n",
    "            'iter': max_iter\n",
    "        }, ignore_index=True)"
   ]
  },
  {
   "cell_type": "code",
   "execution_count": 15,
   "metadata": {},
   "outputs": [
    {
     "data": {
      "text/html": [
       "<div>\n",
       "<style scoped>\n",
       "    .dataframe tbody tr th:only-of-type {\n",
       "        vertical-align: middle;\n",
       "    }\n",
       "\n",
       "    .dataframe tbody tr th {\n",
       "        vertical-align: top;\n",
       "    }\n",
       "\n",
       "    .dataframe thead th {\n",
       "        text-align: right;\n",
       "    }\n",
       "</style>\n",
       "<table border=\"1\" class=\"dataframe\">\n",
       "  <thead>\n",
       "    <tr style=\"text-align: right;\">\n",
       "      <th></th>\n",
       "      <th>N</th>\n",
       "      <th>duration</th>\n",
       "      <th>iter</th>\n",
       "      <th>version</th>\n",
       "    </tr>\n",
       "  </thead>\n",
       "  <tbody>\n",
       "    <tr>\n",
       "      <td>0</td>\n",
       "      <td>10.0</td>\n",
       "      <td>171.5910</td>\n",
       "      <td>1000.0</td>\n",
       "      <td>O0</td>\n",
       "    </tr>\n",
       "    <tr>\n",
       "      <td>1</td>\n",
       "      <td>10.0</td>\n",
       "      <td>96.7784</td>\n",
       "      <td>1000.0</td>\n",
       "      <td>O1</td>\n",
       "    </tr>\n",
       "    <tr>\n",
       "      <td>2</td>\n",
       "      <td>10.0</td>\n",
       "      <td>94.4858</td>\n",
       "      <td>1000.0</td>\n",
       "      <td>O2</td>\n",
       "    </tr>\n",
       "    <tr>\n",
       "      <td>3</td>\n",
       "      <td>10.0</td>\n",
       "      <td>79.1152</td>\n",
       "      <td>1000.0</td>\n",
       "      <td>O3</td>\n",
       "    </tr>\n",
       "    <tr>\n",
       "      <td>4</td>\n",
       "      <td>10.0</td>\n",
       "      <td>82.1277</td>\n",
       "      <td>1000.0</td>\n",
       "      <td>O3-avx</td>\n",
       "    </tr>\n",
       "  </tbody>\n",
       "</table>\n",
       "</div>"
      ],
      "text/plain": [
       "      N  duration    iter version\n",
       "0  10.0  171.5910  1000.0      O0\n",
       "1  10.0   96.7784  1000.0      O1\n",
       "2  10.0   94.4858  1000.0      O2\n",
       "3  10.0   79.1152  1000.0      O3\n",
       "4  10.0   82.1277  1000.0  O3-avx"
      ]
     },
     "execution_count": 15,
     "metadata": {},
     "output_type": "execute_result"
    }
   ],
   "source": [
    "df.head()"
   ]
  },
  {
   "cell_type": "markdown",
   "metadata": {},
   "source": [
    "#### Gráfico 1 - **Distribuição amostral**"
   ]
  },
  {
   "cell_type": "code",
   "execution_count": 88,
   "metadata": {},
   "outputs": [
    {
     "data": {
      "text/plain": [
       "version\n",
       "O0        AxesSubplot(0.125,0.125;0.775x0.755)\n",
       "O1        AxesSubplot(0.125,0.125;0.775x0.755)\n",
       "O2        AxesSubplot(0.125,0.125;0.775x0.755)\n",
       "O3        AxesSubplot(0.125,0.125;0.775x0.755)\n",
       "O3-avx    AxesSubplot(0.125,0.125;0.775x0.755)\n",
       "Name: duration, dtype: object"
      ]
     },
     "execution_count": 88,
     "metadata": {},
     "output_type": "execute_result"
    },
    {
     "data": {
      "image/png": "[encoded data removed]",
      "text/plain": [
       "<Figure size 864x576 with 1 Axes>"
      ]
     },
     "metadata": {
      "needs_background": "light"
     },
     "output_type": "display_data"
    }
   ],
   "source": [
    "df.groupby('version').duration.plot.kde(legend=True, figsize=(12,8))"
   ]
  },
  {
   "cell_type": "markdown",
   "metadata": {},
   "source": [
    "#### Gráfico 2 - **Média dos tempos por versão de executável**"
   ]
  },
  {
   "cell_type": "code",
   "execution_count": 89,
   "metadata": {},
   "outputs": [
    {
     "data": {
      "image/png": "[encoded data removed]",
      "text/plain": [
       "<Figure size 864x576 with 1 Axes>"
      ]
     },
     "metadata": {
      "needs_background": "light"
     },
     "output_type": "display_data"
    }
   ],
   "source": [
    "ax = df.groupby('version').duration.mean().plot(kind='bar',legend=True, figsize=(12,8), cmap='rainbow', title='Tempo medio (ms) por otimizacao por teste', grid=True)\n",
    "ax.set(xlabel='Otimizacao' , ylabel='Tempo (ms)')\n",
    "plt.show()"
   ]
  },
  {
   "cell_type": "code",
   "execution_count": 147,
   "metadata": {},
   "outputs": [],
   "source": [
    "o3_vs_o3avx = df[(df.version == 'O3') | (df.version == 'O3-avx')]"
   ]
  },
  {
   "cell_type": "markdown",
   "metadata": {},
   "source": [
    "#### Gráfico 3 - **O3 vs O3-AVX**"
   ]
  },
  {
   "cell_type": "code",
   "execution_count": 150,
   "metadata": {},
   "outputs": [
    {
     "data": {
      "text/plain": [
       "<matplotlib.axes._subplots.AxesSubplot at 0x7fcf592af978>"
      ]
     },
     "execution_count": 150,
     "metadata": {},
     "output_type": "execute_result"
    },
    {
     "data": {
      "image/png": "[encoded data removed]",
      "text/plain": [
       "<Figure size 432x288 with 1 Axes>"
      ]
     },
     "metadata": {
      "needs_background": "light"
     },
     "output_type": "display_data"
    }
   ],
   "source": [
    "o3_vs_o3avx.groupby('version').duration.mean().plot.bar()"
   ]
  },
  {
   "cell_type": "code",
   "execution_count": 156,
   "metadata": {},
   "outputs": [
    {
     "data": {
      "text/html": [
       "<div>\n",
       "<style scoped>\n",
       "    .dataframe tbody tr th:only-of-type {\n",
       "        vertical-align: middle;\n",
       "    }\n",
       "\n",
       "    .dataframe tbody tr th {\n",
       "        vertical-align: top;\n",
       "    }\n",
       "\n",
       "    .dataframe thead th {\n",
       "        text-align: right;\n",
       "    }\n",
       "</style>\n",
       "<table border=\"1\" class=\"dataframe\">\n",
       "  <thead>\n",
       "    <tr style=\"text-align: right;\">\n",
       "      <th></th>\n",
       "      <th>count</th>\n",
       "      <th>mean</th>\n",
       "      <th>std</th>\n",
       "      <th>min</th>\n",
       "      <th>25%</th>\n",
       "      <th>50%</th>\n",
       "      <th>75%</th>\n",
       "      <th>max</th>\n",
       "    </tr>\n",
       "    <tr>\n",
       "      <th>version</th>\n",
       "      <th></th>\n",
       "      <th></th>\n",
       "      <th></th>\n",
       "      <th></th>\n",
       "      <th></th>\n",
       "      <th></th>\n",
       "      <th></th>\n",
       "      <th></th>\n",
       "    </tr>\n",
       "  </thead>\n",
       "  <tbody>\n",
       "    <tr>\n",
       "      <td>O3</td>\n",
       "      <td>100.0</td>\n",
       "      <td>76.532305</td>\n",
       "      <td>7.518543</td>\n",
       "      <td>66.6181</td>\n",
       "      <td>71.1721</td>\n",
       "      <td>75.2381</td>\n",
       "      <td>79.250950</td>\n",
       "      <td>105.909</td>\n",
       "    </tr>\n",
       "    <tr>\n",
       "      <td>O3-avx</td>\n",
       "      <td>100.0</td>\n",
       "      <td>76.345339</td>\n",
       "      <td>8.416831</td>\n",
       "      <td>64.7932</td>\n",
       "      <td>69.5975</td>\n",
       "      <td>74.7722</td>\n",
       "      <td>81.052675</td>\n",
       "      <td>104.873</td>\n",
       "    </tr>\n",
       "  </tbody>\n",
       "</table>\n",
       "</div>"
      ],
      "text/plain": [
       "         count       mean       std      min      25%      50%        75%  \\\n",
       "version                                                                     \n",
       "O3       100.0  76.532305  7.518543  66.6181  71.1721  75.2381  79.250950   \n",
       "O3-avx   100.0  76.345339  8.416831  64.7932  69.5975  74.7722  81.052675   \n",
       "\n",
       "             max  \n",
       "version           \n",
       "O3       105.909  \n",
       "O3-avx   104.873  "
      ]
     },
     "execution_count": 156,
     "metadata": {},
     "output_type": "execute_result"
    }
   ],
   "source": [
    "o3_vs_o3avx.groupby('version').duration.describe()"
   ]
  },
  {
   "cell_type": "markdown",
   "metadata": {},
   "source": [
    "___\n",
    "## Conclusão"
   ]
  },
  {
   "cell_type": "markdown",
   "metadata": {},
   "source": [
    "Infelizmente, não foi possível encontrar ganhos significativos usando as funcoes de autovetorizacao do compilador quando comparado à versão somente com a `flag -O3` . Minha suspeita é que o fato de ter usado a classe vector com excesso tenha dificultado a funcionalidade. No entanto, ainda encontramos ganhos significativos usando as flags de otimização do `g++`. Como mostra o segundo gráfico, foi possível encontrar em torno de 53% de aumento de desempenho comparando as versões com as flags `-O0` e `-O3`, e visto que é uma otimização simples de ser feita, esta também se mostra extremamente valiosa.\n"
   ]
  }
 ],
 "metadata": {
  "kernelspec": {
   "display_name": "Python 3",
   "language": "python",
   "name": "python3"
  },
  "language_info": {
   "codemirror_mode": {
    "name": "ipython",
    "version": 3
   },
   "file_extension": ".py",
   "mimetype": "text/x-python",
   "name": "python",
   "nbconvert_exporter": "python",
   "pygments_lexer": "ipython3",
   "version": "3.7.1"
  }
 },
 "nbformat": 4,
 "nbformat_minor": 2
}
