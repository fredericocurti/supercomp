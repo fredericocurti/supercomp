{
 "cells": [
  {
   "cell_type": "markdown",
   "metadata": {},
   "source": [
    "# Relatório Projeto 3 - CUDA - Supercomp 2019.2\n",
    "### Frederico Vilela Curti\n",
    "___\n",
    "\n",
    "## Descrição do problema tratado\n",
    "\n",
    "O problema tratado nesse projeto é o problema do Caixeiro Viajante, no qual, de forma lúdica, um vendedor possui uma lista de empresas que ele deverá visitar ao longo do dia, e não existe uma ordem para tal. Desde que todas as empresas sejam visitadas, o objetivo do dia está cumprido. Para otimizar esse percurso e passar o maior tempo possível com seus clientes, ele precisa encontrar uma rota que resulta no menor caminho percorrido ao final do dia. Nesse problema, as empresas serão representadas por pontos em um plano. O desafio desse projeto era implementar uma solução capaz de utilizar da GPU(CUDA) para computar esse percurso de maneira extremamente eficiente, fazendo proveito do imenso poder de paralelismo oferecido por tais dispositivos.\n",
    "\n",
    "## Organização em alto nível do projeto.\n",
    "\n",
    "O projeto foi escrito em CUDA C. Foram desenvolvidas duas soluções para efeito de comparação: A solução `2opt` e a solução `random`, na qual a `2opt` é uma otimização da `random`.\n",
    "\n",
    "Existem diferenças notáveis entre código executado na CPU e GPU. A primeira é uma limitação de tamanho, onde a GPU(CUDA) exige que o problema seja dividido em blocos que serão computados em um `kernel`, nos quais cada bloco da GPU pode executar até 1024 threads. No código, esse kernel é representado por uma função com o prefixo `__global__`, enquanto funções auxiliares, que podem ser chamadas dentro do kernel, possuem o prefixo `__device__`. \n",
    "\n",
    "Para otimizar o problema, em comparação ao Projeto 2, foi feito um pré-calculo das distâncias entre cada ponto em uma matriz N * N, no qual o indice de cada linha representa um ponto e a coluna outro. Isso evita que a distância entre os pontos seja computada em cada iteração. O kernel que pré-computa as distâncias foi chamado de `distKernel`. O que calcula as soluções é o `solKernel`. \n",
    "\n",
    "Na solução `random`, o kernel gera várias entradas de 0 a N, que são permutadas em índices gerados aleatóriamente por cada thread para gerar um caminho aleatório. Esse caminho é armazenado no vetor em GPU `d_solutions` e tem seu custo calculado e adicionado em um vetor na GPU chamado `d_costs`. Em seguida, é usada a biblioteca `thrust` com a função `min_element` para achar o menor custo gerado, e a partir do índice desse custo é possível exibir qual foi o caminho que gerou esse custo. Essa solução não produz um resultado ótimo, porém é de execução rápida e com um número de soluções aleatórias alto pode se aproximar de uma solução viável.\n",
    "\n",
    "A solução `2opt` é uma otimização solução anterior, com o princípio de que caminhos que se cruzam inerentemente produzirão um custo maior. Para aplicar esse princípio de maneira inocente, basta tentar \"desfazer\" esses cruzamentos, trocando pares de nós (com a função em GPU `swap`) e re-calculando a distância da solução (função `cost`). Caso exista uma melhora com uma troca, a mesma é mantida. Caso contrário, a troca é desfeita. Esse processo leva um pouco mais de tempo do que a solução puramente aleatória, porém deve produzir resultados superiores em tempo hábil. O menor custo é encontrado da mesma forma que a solução `random`, com o `thrust::min_element`, que busca esse elemento de maneira paralela na GPU.\n",
    "\n",
    "Essas entradas representam um conjunto de *N* pontos e seguem o seguinte formato:\n",
    "\n",
    "\n",
    "```\n",
    "N\n",
    "x_0 y_0\n",
    "x_1 y_1\n",
    "....\n",
    "x_(N-1) y_(N-1)\n",
    "```\n",
    "\n",
    "Onde:\n",
    "\n",
    "* `N` é o número de pontos do problema.\n",
    "- Cada linha subsequente contém um ponto com as seguintes propriedades:\n",
    "    * coordenada no eixo x `x_N`\n",
    "    * coordenada no eixo y `y_N`\n",
    "\n",
    "Quando lidos, as coordenadas de cada ponto são armazenados em um `struct point` e armazenadas em um `thrust::host_vector<point>`, que será copiado para a GPU antes de iniciar os cálculos (`thrust::device_vector<point> d_points(h_points)`). Essa operação de cópia dos dados para a GPU leva tempo, que será mensurado no benchmark com auxilio da ferramenta `nvprof`. \n",
    "\n",
    "A solução em CPU foi implementada com auxílio da biblioteca `OpenMP`, que fornece blocos estruturados e diretrizes de compilação (`#pragma omp`) com ferramentas para a execução paralela de código distribuído no número de threads determinado pela variável de ambiente `OMP_NUM_THREADS`. \n",
    "\n",
    "O formato de saída será:\n",
    "```\n",
    "dist opt\n",
    "0 e_1 ... e_(N-1)\n",
    "```\n",
    "\n",
    "Onde:\n",
    "\n",
    "- `dist` é o comprimento do caminho encontrado usando 5 casas decimais.\n",
    "- `e_1 ... e_(N-1)` é a sequência de empresas visitadas no trajeto\n",
    "- `opt` é `1` se a solução encontrada é a ótima e `0` se foi usada outra estratégia"
   ]
  },
  {
   "cell_type": "markdown",
   "metadata": {},
   "source": [
    "## Benchmark\n",
    "Foram criadas 3 versões, todas usando a flag -O3 para as seguintes versões do algoritmo:\n",
    "\n",
    "- GPU - Random\n",
    "- GPU - 2Opt\n",
    "- CPU - Branch and Bound (BB) \n",
    "\n",
    "#### O sistema no qual esse benchmark foi executado possui as seguintes configurações:\n",
    "\n",
    "- CPU: Intel(R) Xeon(R) CPU E5-2686 v4 @ 2.30GHz\n",
    "- GPU: Tesla K80 12GB\n",
    "- RAM: 64 GB\n",
    "- SO: Amazon Linux 2"
   ]
  },
  {
   "cell_type": "code",
   "execution_count": 8,
   "metadata": {},
   "outputs": [],
   "source": [
    "KEY_PATH = \"../IgorNvidia.pem\"\n",
    "IP = '204.236.254.145'"
   ]
  },
  {
   "cell_type": "code",
   "execution_count": 9,
   "metadata": {},
   "outputs": [],
   "source": [
    "# Importando dependências\n",
    "import subprocess\n",
    "import pandas as pd\n",
    "import matplotlib.pyplot as plt\n",
    "import paramiko"
   ]
  },
  {
   "cell_type": "code",
   "execution_count": 63,
   "metadata": {
    "scrolled": true
   },
   "outputs": [],
   "source": [
    "client = paramiko.SSHClient()\n",
    "client.set_missing_host_key_policy(paramiko.AutoAddPolicy())\n",
    "client.connect(IP, username='ec2-user', pkey=paramiko.RSAKey.from_private_key_file(KEY_PATH))"
   ]
  },
  {
   "cell_type": "markdown",
   "metadata": {},
   "source": [
    "# Descrição dos testes feitos\n",
    "Os testes abaixo foram realizados com um pipe ssh na máquina remota. Todas as entradas foram geradas com o gerador do projeto 2 `gerador.py`. Como a solução que só usa CPU leva muito mais tempo, as entradas são menores (8, 12, 14 e 16 pontos). As soluções em CUDA usam entradas do de tamanho 32, 64, 128 e 256 pontos.\n",
    "\n",
    "Por questão de tempo, só foi realizada uma única execução de cada programa, o que pode ser alterado na constante `TESTS_PER_EXECUTABLE`.\n",
    "\n",
    "O número de soluções geradas pelo kernel está na constante `SOLUTIONS`, e terá como valor padrão `10000`.\n",
    "\n",
    "O tempo da versão em CPU com OpenMP é mensurado com a biblioteca `chrono`, usando o `high_resolution_clock`, que ao término da simulação é impresso na saída de erros *(stderr)*, para ser capturado pelo código de benchmark. Nas soluções que usam GPU, o tempo foi mensurado com os eventos CUDA através da função `cudaEventElapsedTime`, também impresso na saída de erros. A solução em CPU usada será a **branch and bound**, que mesmo muito mais eficiente do que uma implementação ingênua, ainda fica longe em termos de desempenho quando comparada às soluções em GPU. \n",
    "\n",
    "\n",
    "Todos os testes são armazenados em um DataFrame do Pandas para análise grafica."
   ]
  },
  {
   "cell_type": "code",
   "execution_count": 64,
   "metadata": {},
   "outputs": [],
   "source": [
    "df = pd.DataFrame()"
   ]
  },
  {
   "cell_type": "code",
   "execution_count": 65,
   "metadata": {},
   "outputs": [],
   "source": [
    "def cmd(exe, solutions, test):\n",
    "    return f'cd fred/projeto3/build; ./{exe} {solutions} < ../input/{test}'"
   ]
  },
  {
   "cell_type": "code",
   "execution_count": 66,
   "metadata": {
    "scrolled": true
   },
   "outputs": [
    {
     "name": "stdout",
     "output_type": "stream",
     "text": [
      "working: random-sol in32.txt\n",
      "working: random-sol in64.txt\n",
      "working: random-sol in128.txt\n",
      "working: random-sol in256.txt\n",
      "working: 2opt-sol in32.txt\n",
      "working: 2opt-sol in64.txt\n",
      "working: 2opt-sol in128.txt\n",
      "working: 2opt-sol in256.txt\n"
     ]
    }
   ],
   "source": [
    "TESTS_PER_EXECUTABLE = 1\n",
    "SOLUTIONS = 10000\n",
    "INPUTS = ['in32.txt', 'in64.txt', 'in128.txt', 'in256.txt']\n",
    "INPUTS_CPU = ['in8.txt', 'in12.txt', 'in14.txt', 'in16.txt']\n",
    "\n",
    "EXECUTABLES = ['random-sol', '2opt-sol', 'cpu-sol']\n",
    "df = pd.DataFrame()\n",
    "\n",
    "# Inputs suitable for GPU\n",
    "for exe in EXECUTABLES[:2]:\n",
    "    for test in INPUTS:\n",
    "        for i in range(TESTS_PER_EXECUTABLE):\n",
    "            print('working:', exe, test)\n",
    "            command = cmd(exe, SOLUTIONS, test)\n",
    "            stdin, stdout, stderr = client.exec_command(command)\n",
    "            time = float(stderr.readline().split()[0])\n",
    "            cost = float(stdout.readline().split()[0])\n",
    "            path = stdout.readline()\n",
    "            df = df.append({\n",
    "                'version': exe,\n",
    "                'N': int(test.replace('in', '').replace('.txt', '')),\n",
    "                'duration': time,\n",
    "                'cost': cost,\n",
    "                'path': path\n",
    "            }, ignore_index=True)"
   ]
  },
  {
   "cell_type": "code",
   "execution_count": 71,
   "metadata": {},
   "outputs": [
    {
     "name": "stdout",
     "output_type": "stream",
     "text": [
      "working: random-sol in8.txt\n",
      "working: random-sol in12.txt\n",
      "working: random-sol in14.txt\n",
      "working: random-sol in16.txt\n",
      "working: 2opt-sol in8.txt\n",
      "working: 2opt-sol in12.txt\n",
      "working: 2opt-sol in14.txt\n",
      "working: 2opt-sol in16.txt\n",
      "working: cpu-sol in8.txt\n",
      "working: cpu-sol in12.txt\n",
      "working: cpu-sol in14.txt\n",
      "working: cpu-sol in16.txt\n"
     ]
    }
   ],
   "source": [
    "# Inputs suitable for CPU\n",
    "for exe in EXECUTABLES:\n",
    "    for test in INPUTS_CPU:\n",
    "        for i in range(TESTS_PER_EXECUTABLE):\n",
    "            print('working:', exe, test)\n",
    "            command = cmd(exe, SOLUTIONS, test)\n",
    "            stdin, stdout, stderr = client.exec_command(command)\n",
    "            time = float(stderr.readline().split()[0])\n",
    "            cost = float(stdout.readline().split()[0])\n",
    "            path = stdout.readline()\n",
    "            df = df.append({\n",
    "                'version': exe,\n",
    "                'N': int(test.replace('in', '').replace('.txt', '')),\n",
    "                'duration': time,\n",
    "                'cost': cost,\n",
    "                'path': path\n",
    "            }, ignore_index=True)"
   ]
  },
  {
   "cell_type": "markdown",
   "metadata": {},
   "source": [
    "## NVprof\n",
    "É importante ressaltar que o tempo mensurado foi somente da execução dos *kernels* do problema, existe um overhead de tempo que não foi citado mas que deve ser mencionado, especialmente para entradas menores ou muito grandes, que é a cópia prévia dos dados para a GPU. Nessa solução foram usados vetores da biblioteca `thrust` que abstraem a difícil alocação de memória em GPU. A execução da ferramenta NVprof nos permite observar a divisão de trabalho e tempo na GPU. Como exemplo, a seguir está a distribuição de carga para uma entrada com 128 pontos na solução `2opt`"
   ]
  },
  {
   "cell_type": "code",
   "execution_count": 101,
   "metadata": {
    "scrolled": false
   },
   "outputs": [],
   "source": [
    "command = 'cd fred/projeto3/build && nvprof ./2opt-sol 10000 < ../input/in128.txt'\n",
    "stdin, stdout, stderr = client.exec_command(command)\n",
    "nvprof_out = ''\n",
    "for line in stderr:\n",
    "    nvprof_out += line"
   ]
  },
  {
   "cell_type": "code",
   "execution_count": 102,
   "metadata": {},
   "outputs": [
    {
     "name": "stdout",
     "output_type": "stream",
     "text": [
      "==13980== NVPROF is profiling process 13980, command: ./2opt-sol 10000\n",
      "8485.52 ms\n",
      "==13980== Profiling application: ./2opt-sol 10000\n",
      "==13980== Profiling result:\n",
      "            Type  Time(%)      Time     Calls       Avg       Min       Max  Name\n",
      " GPU activities:  100.00%  8.47871s         1  8.47871s  8.47871s  8.47871s  solKernel(double*, double*, int*, int, int)\n",
      "                    0.00%  289.18us       130  2.2240us  2.0800us  3.4880us  [CUDA memcpy DtoH]\n",
      "                    0.00%  49.568us         1  49.568us  49.568us  49.568us  void thrust::cuda_cub::core::_kernel_agent<thrust::cuda_cub::__parallel_for::ParallelForAgent<thrust::cuda_cub::__uninitialized_fill::functor<thrust::device_ptr<int>, int>, unsigned long>, thrust::cuda_cub::__uninitialized_fill::functor<thrust::device_ptr<int>, int>, unsigned long>(thrust::device_ptr<int>, int)\n",
      "                    0.00%  21.792us         1  21.792us  21.792us  21.792us  distKernel(point*, double*, int)\n"
     ]
    }
   ],
   "source": [
    "print('\\n'.join(nvprof_out.split('\\n')[:9]))"
   ]
  },
  {
   "cell_type": "markdown",
   "metadata": {},
   "source": [
    "Como pode-se observar, quase 100% do tempo foi gasto na execução do `solKernel`, equivalente à `8.47871s`, equanto a cópia de memória para a GPU levou `289.18us`, e o kernel que pre-computa os gastos, `distKernel` também foi muito rápido."
   ]
  },
  {
   "cell_type": "markdown",
   "metadata": {},
   "source": [
    "## Resultado e Conclusão"
   ]
  },
  {
   "cell_type": "code",
   "execution_count": 108,
   "metadata": {},
   "outputs": [
    {
     "data": {
      "image/png": "[encoded data removed]",
      "text/plain": [
       "<Figure size 432x288 with 1 Axes>"
      ]
     },
     "metadata": {},
     "output_type": "display_data"
    }
   ],
   "source": [
    "durations = df.groupby('version')\n",
    "fig, ax = plt.subplots()\n",
    "for name, group in durations:\n",
    "    ax.plot(group.N, group.duration, marker='o', linestyle='-', ms=5, label=group.version)\n",
    "\n",
    "plt.title('Tempos para executáveis diferentes')\n",
    "plt.ylabel('Tempo (ms)')\n",
    "plt.xlabel('N')\n",
    "plt.legend(loc='best', bbox_to_anchor=(1, 1))\n",
    "plt.show()"
   ]
  },
  {
   "cell_type": "code",
   "execution_count": 124,
   "metadata": {},
   "outputs": [
    {
     "data": {
      "text/plain": [
       "137914.42151540826"
      ]
     },
     "execution_count": 124,
     "metadata": {},
     "output_type": "execute_result"
    }
   ],
   "source": [
    "df[df.version == 'random-sol'].describe().cost.mean()"
   ]
  },
  {
   "cell_type": "code",
   "execution_count": 125,
   "metadata": {},
   "outputs": [
    {
     "data": {
      "text/plain": [
       "54848.14984115548"
      ]
     },
     "execution_count": 125,
     "metadata": {},
     "output_type": "execute_result"
    }
   ],
   "source": [
    "df[df.version == '2opt-sol'].describe().cost.mean()"
   ]
  },
  {
   "cell_type": "markdown",
   "metadata": {},
   "source": [
    "Podemos observar que na média, as soluções encontradas com o `random-sol` tiveram um custo médio de `137914.42`, enquanto as soluções encontradas com o `2opt-sol` um custo médio `54848.15`, ou seja, **~60% melhores!**\n"
   ]
  },
  {
   "cell_type": "markdown",
   "metadata": {},
   "source": [
    "Os resultados de CPU foram péssimos quando comparados à GPU:"
   ]
  },
  {
   "cell_type": "code",
   "execution_count": 143,
   "metadata": {},
   "outputs": [
    {
     "data": {
      "text/plain": [
       "N              12.500000\n",
       "cost        29977.289949\n",
       "duration       10.521646\n",
       "dtype: float64"
      ]
     },
     "execution_count": 143,
     "metadata": {},
     "output_type": "execute_result"
    }
   ],
   "source": [
    "df[(df.N < 20) & ((df.version == 'random-sol') | (df.version == '2opt-sol'))].mean()"
   ]
  },
  {
   "cell_type": "code",
   "execution_count": 145,
   "metadata": {},
   "outputs": [
    {
     "data": {
      "text/plain": [
       "N              12.500000\n",
       "cost        26266.288267\n",
       "duration    20143.500000\n",
       "dtype: float64"
      ]
     },
     "execution_count": 145,
     "metadata": {},
     "output_type": "execute_result"
    }
   ],
   "source": [
    "df[df.version == 'cpu-sol'].mean()"
   ]
  },
  {
   "cell_type": "markdown",
   "metadata": {},
   "source": [
    "Podemos observar que, com um custo médio marginalmente melhor na `CPU` (`26266`) por ser uma solução otima, ela levou um tempo médio de 20 segundos, enquanto as soluções em GPU levaram em média 10 millisegundos para encontrar soluções que embora não sejam as melhores, são satisfatórias.\n",
    "\n",
    "Podemos também observar no gráfico que embora o tempo com a solução `2opt` cresça muito mais rápido com a entrada do que o random, ela produz resultados muito melhores, de forma que seja uma solução viável para a resolução do problema, pois mesmo com uma entrada considerável (256 pontos), ela levou \"apenas\" `45613.4 ms` = `45.6s`."
   ]
  },
  {
   "cell_type": "code",
   "execution_count": 151,
   "metadata": {},
   "outputs": [
    {
     "data": {
      "text/html": [
       "<div>\n",
       "<style scoped>\n",
       "    .dataframe tbody tr th:only-of-type {\n",
       "        vertical-align: middle;\n",
       "    }\n",
       "\n",
       "    .dataframe tbody tr th {\n",
       "        vertical-align: top;\n",
       "    }\n",
       "\n",
       "    .dataframe thead th {\n",
       "        text-align: right;\n",
       "    }\n",
       "</style>\n",
       "<table border=\"1\" class=\"dataframe\">\n",
       "  <thead>\n",
       "    <tr style=\"text-align: right;\">\n",
       "      <th></th>\n",
       "      <th>N</th>\n",
       "      <th>cost</th>\n",
       "      <th>duration</th>\n",
       "      <th>path</th>\n",
       "      <th>version</th>\n",
       "    </tr>\n",
       "  </thead>\n",
       "  <tbody>\n",
       "    <tr>\n",
       "      <th>7</th>\n",
       "      <td>256.0</td>\n",
       "      <td>77597.29498</td>\n",
       "      <td>45613.4</td>\n",
       "      <td>0 80 106 134 85 55 186 21 7 197 170 96 220 130...</td>\n",
       "      <td>2opt-sol</td>\n",
       "    </tr>\n",
       "  </tbody>\n",
       "</table>\n",
       "</div>"
      ],
      "text/plain": [
       "       N         cost  duration  \\\n",
       "7  256.0  77597.29498   45613.4   \n",
       "\n",
       "                                                path   version  \n",
       "7  0 80 106 134 85 55 186 21 7 197 170 96 220 130...  2opt-sol  "
      ]
     },
     "execution_count": 151,
     "metadata": {},
     "output_type": "execute_result"
    }
   ],
   "source": [
    "df[(df.version == '2opt-sol') & (df.N == 256)]"
   ]
  },
  {
   "cell_type": "markdown",
   "metadata": {},
   "source": [
    "Logo, é possível concluir que o uso da GPU é uma ferramenta poderosissima para a resolução desse tipo de problema (NP hard), tornando as soluções em CPU irrisórias."
   ]
  }
 ],
 "metadata": {
  "kernelspec": {
   "display_name": "Python 3",
   "language": "python",
   "name": "python3"
  },
  "language_info": {
   "codemirror_mode": {
    "name": "ipython",
    "version": 3
   },
   "file_extension": ".py",
   "mimetype": "text/x-python",
   "name": "python",
   "nbconvert_exporter": "python",
   "pygments_lexer": "ipython3",
   "version": "3.7.1"
  }
 },
 "nbformat": 4,
 "nbformat_minor": 2
}
