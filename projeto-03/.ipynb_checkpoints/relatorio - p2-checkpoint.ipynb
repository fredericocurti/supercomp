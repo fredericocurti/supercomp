{
 "cells": [
  {
   "cell_type": "markdown",
   "metadata": {},
   "source": [
    "## Relatório Projeto 1 - Multi-core - Supercomp 2019.2\n",
    "### Frederico Vilela Curti\n",
    "___\n",
    "\n",
    "### Descrição do problema tratado\n",
    "\n",
    "- O problema tratado nesse projeto é o problema do Caixeiro Viajante, no qual, de forma lúdica, um vendedor possui uma lista de empresas que ele deverá visitar ao longo do dia, e não existe uma ordem para tal. Desde que todas as empresas sejam visitadas, o objetivo do dia está cumprido. Para otimizar esse percurso e passar o maior tempo possível com seus clientes, ele precisa encontrar uma rota que resulta no menor caminho percorrido ao final do dia. Nesse problema, aas empresas serão representadas por pontos em um plano\n",
    "\n",
    "### Organização em alto nível do projeto.\n",
    "\n",
    "- O projeto foi escrito em C++ e é monolítico, possuindo uma `struct` auxiliar `point` para criar um vetor análogo às duas listas `x` e `y` do código original fornecido em python. Diferente dos projetos anteriores, onde existiam múltiplos arquivos de código fonte, nesse as variações foram feitas usando macros, que determinam em tempo de compilação dos executáveis se eles rodarão a versão paralela inocente, sequencial ou a paralela com otimização branch and bound. Além disso somente a otimização -O3 de compilação será testada. Por fim, existe um script `gerador.py` capaz de gerar as entradas que serão consumidas por ambas as versões em `python` e `c++`. Essas entradas representam um conjunto de *N* pontos e seguem o seguinte formato:\n",
    "\n",
    "```\n",
    "N\n",
    "x_0 y_0\n",
    "x_1 y_1\n",
    "....\n",
    "x_(N-1) y_(N-1)\n",
    "```\n",
    "\n",
    "Onde:\n",
    "\n",
    "* `N` é o número de pontos do problema.\n",
    "- Cada linha subsequente contém um ponto com as seguintes propriedades:\n",
    "    * coordenada no eixo x `x_N`\n",
    "    * coordenada no eixo y `y_N`\n",
    "\n",
    "Quando lidos, as coordenadas de cada ponto são armazenados em um `struct point` e armazenadas em um `std::vector<point>`.\n",
    "\n",
    "A solução do problema, contida no método `main` do arquivo [`tsp.cpp`](tsp.cpp), aloca diversos vetores auxiliares que serão compartilhados entre as chamadas recursivas (e entre as tasks, nas versões paralelas).\n",
    "\n",
    "A paralelização foi implementada com auxílio da biblioteca `OpenMP`, que fornece blocos estruturados e diretrizes de compilação (`#pragma omp`) com ferramentas para a execução paralela de código distribuído no número de threads determinado pela variável de ambiente `OMP_NUM_THREADS`.\n",
    "\n",
    "Por se tratar de um código recursivo, a maneira apropriada de utilizar o `OpenMP` é através dos constructs [`tasks`](https://www.openmp.org/spec-html/5.0/openmpse18.html#x69-1990002.10), que permitem com que todas as threads, incluindo a main (0), executem chamadas de função em paralelo e ainda é possível aguardar com que todas as threads tenham concluído seu bloco com a diretriz `#pragma omp taskwait`. Como a invocação dessas tasks possui um overhead alto, esse método não é performante para todos os passos da recursão pois os passos finais serão muitos e tratarão de uma versão reduzida do problema. Para contornar esse problema o que foi feito é que o primeiro andar da árvore de recursão foi paralelizado, e a partir destes nós a execução dos filhos será sequencial.\n",
    "\n",
    "O tempo de cada execução é mensurado com a biblioteca `chrono`, usando o `high_resolution_clock`, que ao término da simulação é impresso na saída de erros *(stderr)*, para ser capturado pelo código de benchmark.\n",
    "\n",
    "O formato de saída será:\n",
    "```\n",
    "dist opt\n",
    "0 e_1 ... e_(N-1)\n",
    "```\n",
    "\n",
    "Onde:\n",
    "\n",
    "- `dist` é o comprimento do caminho encontrado usando 5 casas decimais.\n",
    "- `e_1 ... e_(N-1)` é a sequência de empresas visitadas no trajeto\n",
    "- `opt` é `1` se a solução encontrada é a ótima e `0` se foi usada outra estratégia"
   ]
  },
  {
   "cell_type": "markdown",
   "metadata": {},
   "source": [
    "___\n",
    "## Validação do código\n",
    "\n",
    "Conforme mencionado na seção **Organização em alto nível do projeto**, foi fornecido um [script em `python`](tsp.py) capaz de resolver o problema, porém com um desempenho subpar, especialmente notável para entradas com um número maior de pontos. Só o fato da conversão desse código sequencial inocente para *C++* já deve trazer um ganho significativo de performance, e como o que nos interessa é medir os ganhos de desempenho dos diversos executáveis, é fundamental também que ele produza o resultado correto. Para tal, abaixo vamos comparar a saída do código em *C++* com a saída do código em *python* dada uma mesma entrada."
   ]
  },
  {
   "cell_type": "code",
   "execution_count": 36,
   "metadata": {},
   "outputs": [],
   "source": [
    "# Importando dependências\n",
    "import subprocess\n",
    "import pandas as pd\n",
    "import matplotlib.pyplot as plt"
   ]
  },
  {
   "cell_type": "code",
   "execution_count": 18,
   "metadata": {
    "scrolled": true
   },
   "outputs": [],
   "source": [
    "result_cpp_seq = subprocess.run([\"build/tsp-O3-seq\"], stdin=open(f\"input/in10.txt\"), stdout=subprocess.PIPE, stderr=subprocess.PIPE)\n",
    "result_cpp_par = subprocess.run([\"build/tsp-O3-parallel\"], stdin=open(f\"input/in10.txt\"), stdout=subprocess.PIPE, stderr=subprocess.PIPE)\n",
    "result_cpp_bb = subprocess.run([\"build/tsp-O3-bb\"], stdin=open(f\"input/in10.txt\"), stdout=subprocess.PIPE, stderr=subprocess.PIPE)\n",
    "result_python = subprocess.run([\"python3\", \"tsp.py\"], stdin=open(f\"input/in10.txt\"), stdout=subprocess.PIPE, stderr=subprocess.PIPE)"
   ]
  },
  {
   "cell_type": "markdown",
   "metadata": {},
   "source": [
    "\n",
    "Abaixo estão listados o caminho resultante de cada execução, no qual a segunda linha indica a ordem na qual os pontos devem ser percorridos.\n",
    "\n",
    "**Saída do programa em C++ - sequencial**"
   ]
  },
  {
   "cell_type": "code",
   "execution_count": 23,
   "metadata": {},
   "outputs": [
    {
     "name": "stdout",
     "output_type": "stream",
     "text": [
      "7050.70882 1\n",
      "0 6 7 1 3 5 8 9 4 2 \n",
      "\n"
     ]
    }
   ],
   "source": [
    "print(result_cpp_seq.stdout.decode())"
   ]
  },
  {
   "cell_type": "markdown",
   "metadata": {},
   "source": [
    "**Saída do programa em C++ - paralelo**"
   ]
  },
  {
   "cell_type": "code",
   "execution_count": 26,
   "metadata": {},
   "outputs": [
    {
     "name": "stdout",
     "output_type": "stream",
     "text": [
      "7050.70882 1\n",
      "0 6 7 1 3 5 8 9 4 2 \n",
      "\n"
     ]
    }
   ],
   "source": [
    "print(result_cpp_par.stdout.decode())"
   ]
  },
  {
   "cell_type": "markdown",
   "metadata": {},
   "source": [
    "**Saída do programa em C++ - branch and bound**"
   ]
  },
  {
   "cell_type": "code",
   "execution_count": 28,
   "metadata": {},
   "outputs": [
    {
     "name": "stdout",
     "output_type": "stream",
     "text": [
      "7050.70882 1\n",
      "0 6 7 1 3 5 8 9 4 2 \n",
      "\n"
     ]
    }
   ],
   "source": [
    "print(result_cpp_bb.stdout.decode())"
   ]
  },
  {
   "cell_type": "markdown",
   "metadata": {},
   "source": [
    "**Saída do programa em Python**"
   ]
  },
  {
   "cell_type": "code",
   "execution_count": 29,
   "metadata": {},
   "outputs": [
    {
     "name": "stdout",
     "output_type": "stream",
     "text": [
      "7050.7088162092 1\n",
      "0 6 7 1 3 5 8 9 4 2\n",
      "\n"
     ]
    }
   ],
   "source": [
    "print(result_python.stdout.decode())"
   ]
  },
  {
   "cell_type": "markdown",
   "metadata": {},
   "source": [
    "Como observado, tanto o caminho quanto a distância resultante de todas as versões foi o mesmo (dada uma diferença de arredondamento) para uma mesma entrada gerada aleatoriamente com 10 pontos, logo assumiremos que o código produz um resultado computacionalmente correto. Na seção seguinte será avaliado o desemepenho de todas as variantes geradas."
   ]
  },
  {
   "cell_type": "markdown",
   "metadata": {},
   "source": [
    "___\n",
    "## Benchmark\n",
    "Com a algoritmo validada, agora é hora de testar simulações maiores e verificar se houveram ganhos de desempenho com as flags de compilação, com a paralelização usando o `OpenMP` de maneira inocente e sua otimização `Branch and Bound`. Nessa seção, não iremos mais validar a saída, apenas comparar o tempo de execução entre as diferentes versões. Foram criadas 3 versões, todas usando a flag -O3 para as seguintes versões do algoritmo:\n",
    "\n",
    "- Sequencial\n",
    "- Paralelo\n",
    "- Paralelo com Branch and Bound (BB)\n",
    "\n",
    "O sistema no qual esse benchmark foi executado possui as seguintes configurações:\n",
    "***\n",
    "- CPU: Intel Core i7 4780HQ @ 2.5Ghz\n",
    "- GPU: AMD Radeon R9 M370X 2 GB\n",
    "- RAM: 16 GB 1600 MHz DDR3\n",
    "- SO: macOS Mojave 10.14.6\n",
    "***\n",
    "Os testes foram executados com o notebook plugado na tomada para evitar diminuições do clock para poupar a bateria. Serão executados TESTS_PER_EXECUTABLE testes (default 1 - gostaria que fossem mais, mas sem tempo ;( ) para uma média - esse número poderia ser maior mas infelizmente algumas execuções podem demorar muito, logo precisaria de mais tempo para tal."
   ]
  },
  {
   "cell_type": "code",
   "execution_count": 65,
   "metadata": {},
   "outputs": [
    {
     "name": "stdout",
     "output_type": "stream",
     "text": [
      "working: tsp-O3-bb in5.txt 0\n",
      "working: tsp-O3-bb in10.txt 0\n",
      "working: tsp-O3-bb in12.txt 0\n",
      "working: tsp-O3-bb in13.txt 0\n",
      "working: tsp-O3-seq in5.txt 0\n",
      "working: tsp-O3-seq in10.txt 0\n",
      "working: tsp-O3-seq in12.txt 0\n",
      "working: tsp-O3-seq in13.txt 0\n",
      "working: tsp-O3-parallel in5.txt 0\n",
      "working: tsp-O3-parallel in10.txt 0\n",
      "working: tsp-O3-parallel in12.txt 0\n",
      "working: tsp-O3-parallel in13.txt 0\n"
     ]
    }
   ],
   "source": [
    "TESTS_PER_EXECUTABLE = 1\n",
    "INPUTS = ['in5.txt', 'in10.txt', 'in12.txt', 'in13.txt']\n",
    "EXECUTABLES = [x for x in os.listdir('build') if \"tsp\" in x]\n",
    "df = pd.DataFrame()\n",
    "\n",
    "for exe in EXECUTABLES:\n",
    "    for input_file in INPUTS:\n",
    "        for i in range(TESTS_PER_EXECUTABLE):\n",
    "            print('working:', exe, input_file, i)\n",
    "            result = subprocess.run([f\"build/{exe}\"], stdin=open(f'./input/{input_file}'), stderr=subprocess.PIPE)\n",
    "            df = df.append({\n",
    "                'version': exe.replace('tsp-', ''),\n",
    "                'N': input_file.replace('in', '').replace('.txt', ''),\n",
    "                'duration': float(result.stderr.decode().split()[0].replace('+', ''))/1e3,\n",
    "            }, ignore_index=True)\n"
   ]
  },
  {
   "cell_type": "code",
   "execution_count": 67,
   "metadata": {},
   "outputs": [
    {
     "data": {
      "text/html": [
       "<div>\n",
       "<style scoped>\n",
       "    .dataframe tbody tr th:only-of-type {\n",
       "        vertical-align: middle;\n",
       "    }\n",
       "\n",
       "    .dataframe tbody tr th {\n",
       "        vertical-align: top;\n",
       "    }\n",
       "\n",
       "    .dataframe thead th {\n",
       "        text-align: right;\n",
       "    }\n",
       "</style>\n",
       "<table border=\"1\" class=\"dataframe\">\n",
       "  <thead>\n",
       "    <tr style=\"text-align: right;\">\n",
       "      <th></th>\n",
       "      <th>N</th>\n",
       "      <th>duration</th>\n",
       "      <th>version</th>\n",
       "    </tr>\n",
       "  </thead>\n",
       "  <tbody>\n",
       "    <tr>\n",
       "      <th>0</th>\n",
       "      <td>5</td>\n",
       "      <td>0.344</td>\n",
       "      <td>O3-bb</td>\n",
       "    </tr>\n",
       "    <tr>\n",
       "      <th>1</th>\n",
       "      <td>10</td>\n",
       "      <td>5.298</td>\n",
       "      <td>O3-bb</td>\n",
       "    </tr>\n",
       "    <tr>\n",
       "      <th>2</th>\n",
       "      <td>12</td>\n",
       "      <td>49.179</td>\n",
       "      <td>O3-bb</td>\n",
       "    </tr>\n",
       "    <tr>\n",
       "      <th>3</th>\n",
       "      <td>13</td>\n",
       "      <td>334.169</td>\n",
       "      <td>O3-bb</td>\n",
       "    </tr>\n",
       "    <tr>\n",
       "      <th>4</th>\n",
       "      <td>5</td>\n",
       "      <td>0.007</td>\n",
       "      <td>O3-seq</td>\n",
       "    </tr>\n",
       "    <tr>\n",
       "      <th>5</th>\n",
       "      <td>10</td>\n",
       "      <td>23.043</td>\n",
       "      <td>O3-seq</td>\n",
       "    </tr>\n",
       "    <tr>\n",
       "      <th>6</th>\n",
       "      <td>12</td>\n",
       "      <td>2849.180</td>\n",
       "      <td>O3-seq</td>\n",
       "    </tr>\n",
       "    <tr>\n",
       "      <th>7</th>\n",
       "      <td>13</td>\n",
       "      <td>35180.700</td>\n",
       "      <td>O3-seq</td>\n",
       "    </tr>\n",
       "    <tr>\n",
       "      <th>8</th>\n",
       "      <td>5</td>\n",
       "      <td>0.292</td>\n",
       "      <td>O3-parallel</td>\n",
       "    </tr>\n",
       "    <tr>\n",
       "      <th>9</th>\n",
       "      <td>10</td>\n",
       "      <td>24.920</td>\n",
       "      <td>O3-parallel</td>\n",
       "    </tr>\n",
       "    <tr>\n",
       "      <th>10</th>\n",
       "      <td>12</td>\n",
       "      <td>2914.440</td>\n",
       "      <td>O3-parallel</td>\n",
       "    </tr>\n",
       "    <tr>\n",
       "      <th>11</th>\n",
       "      <td>13</td>\n",
       "      <td>35567.300</td>\n",
       "      <td>O3-parallel</td>\n",
       "    </tr>\n",
       "  </tbody>\n",
       "</table>\n",
       "</div>"
      ],
      "text/plain": [
       "     N   duration      version\n",
       "0    5      0.344        O3-bb\n",
       "1   10      5.298        O3-bb\n",
       "2   12     49.179        O3-bb\n",
       "3   13    334.169        O3-bb\n",
       "4    5      0.007       O3-seq\n",
       "5   10     23.043       O3-seq\n",
       "6   12   2849.180       O3-seq\n",
       "7   13  35180.700       O3-seq\n",
       "8    5      0.292  O3-parallel\n",
       "9   10     24.920  O3-parallel\n",
       "10  12   2914.440  O3-parallel\n",
       "11  13  35567.300  O3-parallel"
      ]
     },
     "execution_count": 67,
     "metadata": {},
     "output_type": "execute_result"
    }
   ],
   "source": [
    "df"
   ]
  },
  {
   "cell_type": "markdown",
   "metadata": {},
   "source": [
    "#### Gráfico 1 - **Crescimento do tempo**"
   ]
  },
  {
   "cell_type": "code",
   "execution_count": 169,
   "metadata": {},
   "outputs": [
    {
     "data": {
      "image/png": "[encoded data removed]",
      "text/plain": [
       "<Figure size 432x288 with 1 Axes>"
      ]
     },
     "metadata": {},
     "output_type": "display_data"
    }
   ],
   "source": [
    "durations = df.groupby('version')\n",
    "fig, ax = plt.subplots()\n",
    "for name, group in durations:\n",
    "    ax.plot(group.N, group.duration, marker='o', linestyle='-', ms=5, label=group.version)\n",
    "\n",
    "plt.title('Tempos para executáveis diferentes')\n",
    "plt.ylabel('Tempo (ms)')\n",
    "plt.xlabel('N')\n",
    "plt.legend(loc='best', bbox_to_anchor=(1, 1))\n",
    "plt.show()"
   ]
  },
  {
   "cell_type": "markdown",
   "metadata": {},
   "source": [
    "#### Gráfico 2 - **Média dos tempos por versão de executável**"
   ]
  },
  {
   "cell_type": "code",
   "execution_count": 146,
   "metadata": {},
   "outputs": [
    {
     "data": {
      "image/png": "[encoded data removed]",
      "text/plain": [
       "<Figure size 576x432 with 1 Axes>"
      ]
     },
     "metadata": {},
     "output_type": "display_data"
    }
   ],
   "source": [
    "ax = df[(df.N == '5')].groupby('version').duration.mean().plot(kind='bar',legend=True, figsize=(8,6), title='Tempo medio (ms) por otimizacao por teste com N=5', grid=True)\n",
    "ax.set(xlabel='Otimizacao' , ylabel='Tempo (ms)')\n",
    "plt.show()"
   ]
  },
  {
   "cell_type": "code",
   "execution_count": 145,
   "metadata": {},
   "outputs": [
    {
     "data": {
      "image/png": "[encoded data removed]",
      "text/plain": [
       "<Figure size 576x432 with 1 Axes>"
      ]
     },
     "metadata": {},
     "output_type": "display_data"
    }
   ],
   "source": [
    "ax = df[(df.N == '10')].groupby('version').duration.mean().plot(kind='bar',legend=True, figsize=(8,6), title='Tempo medio (ms) por otimizacao por teste com N=10', grid=True)\n",
    "ax.set(xlabel='Otimizacao' , ylabel='Tempo (ms)')\n",
    "plt.show()"
   ]
  },
  {
   "cell_type": "code",
   "execution_count": 170,
   "metadata": {},
   "outputs": [
    {
     "data": {
      "image/png": "[encoded data removed]",
      "text/plain": [
       "<Figure size 576x432 with 1 Axes>"
      ]
     },
     "metadata": {},
     "output_type": "display_data"
    }
   ],
   "source": [
    "ax = df[(df.N == '13')].groupby('version').duration.mean().plot(kind='bar',legend=True, figsize=(8,6), title='Tempo medio (ms) por otimizacao por teste com N=13', grid=True)\n",
    "ax.set(xlabel='Otimizacao' , ylabel='Tempo (ms)')\n",
    "plt.show()"
   ]
  },
  {
   "cell_type": "markdown",
   "metadata": {},
   "source": [
    "#### Gráfico 3 - **Seq vs Parallel** (mean)"
   ]
  },
  {
   "cell_type": "code",
   "execution_count": 95,
   "metadata": {},
   "outputs": [
    {
     "data": {
      "text/plain": [
       "<matplotlib.axes._subplots.AxesSubplot at 0x115f294e0>"
      ]
     },
     "execution_count": 95,
     "metadata": {},
     "output_type": "execute_result"
    },
    {
     "data": {
      "image/png": "[encoded data removed]",
      "text/plain": [
       "<Figure size 432x288 with 1 Axes>"
      ]
     },
     "metadata": {},
     "output_type": "display_data"
    }
   ],
   "source": [
    "df[(df.version == 'O3-parallel') | (df.version == 'O3-seq')].groupby('version').duration.mean().plot.bar()"
   ]
  },
  {
   "cell_type": "code",
   "execution_count": 172,
   "metadata": {},
   "outputs": [
    {
     "data": {
      "text/html": [
       "<div>\n",
       "<style scoped>\n",
       "    .dataframe tbody tr th:only-of-type {\n",
       "        vertical-align: middle;\n",
       "    }\n",
       "\n",
       "    .dataframe tbody tr th {\n",
       "        vertical-align: top;\n",
       "    }\n",
       "\n",
       "    .dataframe thead th {\n",
       "        text-align: right;\n",
       "    }\n",
       "</style>\n",
       "<table border=\"1\" class=\"dataframe\">\n",
       "  <thead>\n",
       "    <tr style=\"text-align: right;\">\n",
       "      <th></th>\n",
       "      <th>count</th>\n",
       "      <th>mean</th>\n",
       "      <th>std</th>\n",
       "      <th>min</th>\n",
       "      <th>25%</th>\n",
       "      <th>50%</th>\n",
       "      <th>75%</th>\n",
       "      <th>max</th>\n",
       "    </tr>\n",
       "    <tr>\n",
       "      <th>version</th>\n",
       "      <th></th>\n",
       "      <th></th>\n",
       "      <th></th>\n",
       "      <th></th>\n",
       "      <th></th>\n",
       "      <th></th>\n",
       "      <th></th>\n",
       "      <th></th>\n",
       "    </tr>\n",
       "  </thead>\n",
       "  <tbody>\n",
       "    <tr>\n",
       "      <th>O3-bb</th>\n",
       "      <td>4.0</td>\n",
       "      <td>97.2475</td>\n",
       "      <td>159.465123</td>\n",
       "      <td>0.344</td>\n",
       "      <td>4.0595</td>\n",
       "      <td>27.2385</td>\n",
       "      <td>120.4265</td>\n",
       "      <td>334.169</td>\n",
       "    </tr>\n",
       "    <tr>\n",
       "      <th>O3-parallel</th>\n",
       "      <td>4.0</td>\n",
       "      <td>9626.7380</td>\n",
       "      <td>17347.728697</td>\n",
       "      <td>0.292</td>\n",
       "      <td>18.7630</td>\n",
       "      <td>1469.6800</td>\n",
       "      <td>11077.6550</td>\n",
       "      <td>35567.300</td>\n",
       "    </tr>\n",
       "    <tr>\n",
       "      <th>O3-seq</th>\n",
       "      <td>4.0</td>\n",
       "      <td>9513.2325</td>\n",
       "      <td>17163.853877</td>\n",
       "      <td>0.007</td>\n",
       "      <td>17.2840</td>\n",
       "      <td>1436.1115</td>\n",
       "      <td>10932.0600</td>\n",
       "      <td>35180.700</td>\n",
       "    </tr>\n",
       "  </tbody>\n",
       "</table>\n",
       "</div>"
      ],
      "text/plain": [
       "             count       mean           std    min      25%        50%  \\\n",
       "version                                                                  \n",
       "O3-bb          4.0    97.2475    159.465123  0.344   4.0595    27.2385   \n",
       "O3-parallel    4.0  9626.7380  17347.728697  0.292  18.7630  1469.6800   \n",
       "O3-seq         4.0  9513.2325  17163.853877  0.007  17.2840  1436.1115   \n",
       "\n",
       "                    75%        max  \n",
       "version                             \n",
       "O3-bb          120.4265    334.169  \n",
       "O3-parallel  11077.6550  35567.300  \n",
       "O3-seq       10932.0600  35180.700  "
      ]
     },
     "execution_count": 172,
     "metadata": {},
     "output_type": "execute_result"
    }
   ],
   "source": [
    "df.groupby('version').duration.describe()"
   ]
  },
  {
   "cell_type": "markdown",
   "metadata": {},
   "source": [
    "___\n",
    "## Conclusão"
   ]
  },
  {
   "cell_type": "markdown",
   "metadata": {},
   "source": [
    "Infelizmente, não foi possível encontrar uma melhora significativa com a paralelização inocente, com resultados incrivelmente similares à versão sequencial, no entandom com a otimização Branch and Bound, encontramos uma diminuição absurda no tempo, em uma ordem de quase 100 vezes na média para os testes realizados, o que é muito impressionante.\n"
   ]
  }
 ],
 "metadata": {
  "kernelspec": {
   "display_name": "Python 3",
   "language": "python",
   "name": "python3"
  },
  "language_info": {
   "codemirror_mode": {
    "name": "ipython",
    "version": 3
   },
   "file_extension": ".py",
   "mimetype": "text/x-python",
   "name": "python",
   "nbconvert_exporter": "python",
   "pygments_lexer": "ipython3",
   "version": "3.7.1"
  }
 },
 "nbformat": 4,
 "nbformat_minor": 2
}
